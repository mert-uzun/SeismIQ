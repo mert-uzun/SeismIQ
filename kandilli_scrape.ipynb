{
 "cells": [
  {
   "cell_type": "code",
   "execution_count": 1,
   "id": "d102bc4b",
   "metadata": {},
   "outputs": [],
   "source": [
    "import requests\n",
    "from bs4 import BeautifulSoup\n",
    "from datetime import date"
   ]
  },
  {
   "cell_type": "code",
   "execution_count": 2,
   "id": "c6ccdb40",
   "metadata": {},
   "outputs": [
    {
     "name": "stdout",
     "output_type": "stream",
     "text": [
      "b'<HTML> \\r\\n\\r\\n\\r\\n<meta http-equiv=\"Content-Type\" content=\"text/html; charset=windows-1254\">\\r\\n<meta http-'\n"
     ]
    }
   ],
   "source": [
    "url = 'http://www.koeri.boun.edu.tr/scripts/lst1.asp'\n",
    "\n",
    "r = requests.get(url)\n",
    "\n",
    "print(r.content[:100])"
   ]
  },
  {
   "cell_type": "code",
   "execution_count": 3,
   "id": "18485263",
   "metadata": {},
   "outputs": [],
   "source": [
    "soup = BeautifulSoup(r.content, 'html.parser')"
   ]
  },
  {
   "cell_type": "code",
   "execution_count": 4,
   "id": "920ce744",
   "metadata": {},
   "outputs": [],
   "source": [
    "pre_tag = soup.find('pre')\n",
    "#if pre_tag:\n",
    "    #print(pre_tag.get_text())"
   ]
  },
  {
   "cell_type": "code",
   "execution_count": 5,
   "id": "01ac1376",
   "metadata": {},
   "outputs": [
    {
     "name": "stdout",
     "output_type": "stream",
     "text": [
      "{'date': '2025.08.11', 'time': '00:01:46', 'latitude': '39.2317', 'longitude': '28.0450', 'depth_km': '8.2', 'MD': '-.-', 'ML': '3.5', 'Mw': '-.-', 'location': 'ALAKIR-SINDIRGI (BALIKESIR)', 'quality': 'İlksel'}\n"
     ]
    }
   ],
   "source": [
    "if pre_tag:\n",
    "    text = pre_tag.get_text()\n",
    "    lines = text.splitlines()\n",
    "    data_start_index = None\n",
    "\n",
    "    for i, line in enumerate(lines):\n",
    "        if line.strip().startswith('----------'):\n",
    "            data_start_index = i + 1\n",
    "            break\n",
    "    if data_start_index is None:\n",
    "        exit()\n",
    "\n",
    "    today_date = date.today().strftime('%Y.%m.%d')\n",
    "\n",
    "    earthquakes = []\n",
    "\n",
    "    for line in lines[data_start_index:]:\n",
    "        if not line.strip():\n",
    "            break\n",
    "        parts = line.split()\n",
    "        if len(parts) < 9:\n",
    "            continue\n",
    "        \n",
    "        quake_date = parts[0]\n",
    "\n",
    "        #Checks if earthquake happened today\n",
    "        if quake_date == today_date:\n",
    "            latitude_str = parts[2]\n",
    "            longitude_str = parts[3]\n",
    "            \n",
    "            try:\n",
    "                latitude = float(latitude_str)\n",
    "                longitude = float(longitude_str)\n",
    "            except ValueError:\n",
    "                continue\n",
    "            \n",
    "            #Checks coordinates to see if the earthquake is close enough to affect Turkey\n",
    "            #Explanation of why these coordinates where chosen is written below\n",
    "            if 24.58 <= longitude <= 45 and 36 <= latitude <= 42:\n",
    "                time = parts[1]\n",
    "                depth = parts[4]\n",
    "                MD = parts[5]\n",
    "                ML = parts[6]\n",
    "                Mw = parts[7]\n",
    "                quality = parts[-1]\n",
    "                location = \" \".join(parts[8:-1])\n",
    "                quake = {\n",
    "                    'date': quake_date,\n",
    "                    'time': time,\n",
    "                    'latitude': latitude_str,\n",
    "                    'longitude': longitude_str,\n",
    "                    'depth_km': depth,\n",
    "                    'MD': MD,\n",
    "                    'ML': ML,\n",
    "                    'Mw': Mw,\n",
    "                    'location': location,\n",
    "                    'quality': quality,\n",
    "                }\n",
    "                earthquakes.append(quake)\n",
    "        \n",
    "        elif quake_date < today_date:\n",
    "            break\n",
    "\n",
    "    #earth_list is a list to store dicts of earthquakes that have occured in the past 24h\n",
    "    #earth_list is recreated each time the scraped code runs\n",
    "    earth_list = []\n",
    "\n",
    "    for q in earthquakes:\n",
    "        earth_list.append(q)\n",
    "        print(q)"
   ]
  },
  {
   "cell_type": "markdown",
   "id": "7d4f9c59",
   "metadata": {},
   "source": [
    "The coordinates 42N, 36N, and 45E roughly gives the coordinates of Turkey and captures all major fault lines that could cause an earthquake. The coordinate 24.58E was chosen as it is the middle of the Helenic arc (center of Crete). Roughly 310km from the nearest Turkish coast. A major fault line exists near this longitude, which could pose a structural damage or tsunami risk if an earthquake larger than Mw 7.5 occurs."
   ]
  },
  {
   "cell_type": "code",
   "execution_count": 6,
   "id": "ecf9b70b",
   "metadata": {},
   "outputs": [],
   "source": [
    "\"\"\"\n",
    "Sample data in format of l_earth for testing:\n",
    "\n",
    "earthquake_data = [\n",
    "    {'date': '2025.08.03', 'time': '13:43:07', 'latitude': '40.3658', 'longitude': '28.9940', 'depth_km': '8.1', 'MD': '-.-', 'ML': '2.8', 'Mw': '-.-'},\n",
    "    {'date': '2025.08.03', 'time': '13:41:58', 'latitude': '36.2197', 'longitude': '36.2042', 'depth_km': '8.5', 'MD': '-.-', 'ML': '2.2', 'Mw': '6.2'},\n",
    "    {'date': '2025.08.03', 'time': '13:11:51', 'latitude': '39.2502', 'longitude': '28.9685', 'depth_km': '11.3', 'MD': '-.-', 'ML': '1.9', 'Mw': '-.-'},\n",
    "    {'date': '2025.08.03', 'time': '13:10:33', 'latitude': '39.0642', 'longitude': '25.7962', 'depth_km': '7.6', 'MD': '-.-', 'ML': '2.3', 'Mw': '7.1'},\n",
    "    {'date': '2025.08.03', 'time': '12:55:01', 'latitude': '39.5011', 'longitude': '26.8837', 'depth_km': '9.8', 'MD': '-.-', 'ML': '3.5', 'Mw': '-.-'},\n",
    "    {'date': '2025.08.03', 'time': '12:45:01', 'latitude': '38.5011', 'longitude': '30.8837', 'depth_km': '15.2', 'MD': '-.-', 'ML': '4.1', 'Mw': '5.9'}\n",
    "]\n",
    "\"\"\"\n",
    "l_earth = []\n",
    "\n",
    "for quake in earth_list:\n",
    "    mw_value = quake.get('Mw')\n",
    "\n",
    "    if mw_value and mw_value != '-.-':\n",
    "        try:\n",
    "            mw_magnitude = float(mw_value)\n",
    "\n",
    "            # Check if the magnitude is greater than 6.1\n",
    "            #Explanation of why 6.1 is threshold is written below\n",
    "            if mw_magnitude > 6.1:\n",
    "                l_earth.append(quake)\n",
    "\n",
    "        except ValueError:\n",
    "            continue\n",
    "\n",
    "#To do: make data save to a file\n"
   ]
  },
  {
   "cell_type": "markdown",
   "id": "8fda8b50",
   "metadata": {},
   "source": [
    "The smallest deadly earthquake in Turkey in the last 50 years occurred in 1983 near Biga, with a magnitude of 6.1 (Ms). Today, the Mw (moment magnitude) scale is more commonly used instead of Ms. Another deadly earthquake in 1986 in Malatya also had a Mw of 6.1. Furthermore, the 6.1 Mw Elazığ earthquake in 2010 gave 41 casualties. This suggests that the minimum magnitude for fatal earthquakes in Turkey is 6.1 (Mw). Hence, the threshold has been set to 6.1 Mw in the code, and it is advised that this threshold remain the same for later parts of the project."
   ]
  }
 ],
 "metadata": {
  "kernelspec": {
   "display_name": "base",
   "language": "python",
   "name": "python3"
  },
  "language_info": {
   "codemirror_mode": {
    "name": "ipython",
    "version": 3
   },
   "file_extension": ".py",
   "mimetype": "text/x-python",
   "name": "python",
   "nbconvert_exporter": "python",
   "pygments_lexer": "ipython3",
   "version": "3.11.7"
  }
 },
 "nbformat": 4,
 "nbformat_minor": 5
}
